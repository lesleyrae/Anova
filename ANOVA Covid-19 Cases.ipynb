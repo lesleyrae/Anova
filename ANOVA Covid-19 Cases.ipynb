{
 "cells": [
  {
   "cell_type": "markdown",
   "id": "387090a3",
   "metadata": {},
   "source": [
    "### Content\n",
    "\n",
    "- Introduction\n",
    "- Hypothesis Formulation\n",
    "- Experimental Design\n",
    "- Analysis and Visualization\n",
    "- Conclusion"
   ]
  },
  {
   "cell_type": "markdown",
   "id": "42b9989e",
   "metadata": {},
   "source": [
    "## Introduction\n",
    "In this case study, we investigate the statistical significance of COVID-19 across the different regions in the world. Data has been collected on 10th May 2020 for the study from Johns Hopkins University."
   ]
  },
  {
   "cell_type": "markdown",
   "id": "68520f2b",
   "metadata": {},
   "source": [
    "## Hypothesis \n",
    "$H_0:$ There is no statistical difference in the mean of COVID-19 confirmed cases across the different regions.\n",
    "\n",
    "$H_1:$ Atleast the means of COVID-19 confirmed cases of two regions are different from each other."
   ]
  },
  {
   "cell_type": "markdown",
   "id": "f9bef3e5",
   "metadata": {},
   "source": [
    "## Experimental Design"
   ]
  },
  {
   "cell_type": "markdown",
   "id": "0802ad28",
   "metadata": {},
   "source": [
    "One-way ANOVA has been used because we have only one independent variable(i.e., region) and sample data from each region is independent from others. For our study, we consider 20 countries from each region. \n",
    "- Dependent Variable: number of confirmed cases \n",
    "- Independent Variable: region"
   ]
  },
  {
   "cell_type": "code",
   "execution_count": 1,
   "id": "a121182d",
   "metadata": {},
   "outputs": [],
   "source": [
    "import pandas as pd\n",
    "import numpy as np\n",
    "\n",
    "from scipy import stats \n",
    "import statsmodels.api as sm\n",
    "from statsmodels.formula.api import ols\n",
    "from statsmodels.stats.multicomp import MultiComparison\n",
    "\n",
    "#visualization\n",
    "import seaborn as sns\n",
    "import matplotlib.pyplot as plt\n",
    "from statsmodels.graphics.gofplots import ProbPlot"
   ]
  },
  {
   "cell_type": "code",
   "execution_count": 2,
   "id": "d87c993c",
   "metadata": {},
   "outputs": [],
   "source": [
    "df=pd.read_csv('data/covid19_preprocessed_data.csv')"
   ]
  },
  {
   "cell_type": "code",
   "execution_count": 3,
   "id": "5ad9baec",
   "metadata": {},
   "outputs": [
    {
     "name": "stdout",
     "output_type": "stream",
     "text": [
      "<class 'pandas.core.frame.DataFrame'>\n",
      "RangeIndex: 80 entries, 0 to 79\n",
      "Data columns (total 7 columns):\n",
      " #   Column     Non-Null Count  Dtype \n",
      "---  ------     --------------  ----- \n",
      " 0   Country    80 non-null     object\n",
      " 1   Confirmed  80 non-null     int64 \n",
      " 2   Deaths     80 non-null     int64 \n",
      " 3   Recovered  80 non-null     int64 \n",
      " 4   Active     80 non-null     int64 \n",
      " 5   Continent  80 non-null     object\n",
      " 6   Region     80 non-null     object\n",
      "dtypes: int64(4), object(3)\n",
      "memory usage: 4.5+ KB\n"
     ]
    }
   ],
   "source": [
    "df.info()"
   ]
  },
  {
   "cell_type": "code",
   "execution_count": 8,
   "id": "111f2a38",
   "metadata": {},
   "outputs": [
    {
     "data": {
      "image/png": "[encoded data removed]",
      "text/plain": [
       "<Figure size 864x576 with 1 Axes>"
      ]
     },
     "metadata": {
      "needs_background": "light"
     },
     "output_type": "display_data"
    }
   ],
   "source": [
    "df.boxplot(column=['Confirmed'],by=['Region'],figsize=(12,8))\n",
    "plt.title('Covid 19 confirmed cases')\n",
    "plt.show()"
   ]
  },
  {
   "cell_type": "markdown",
   "id": "b875b857",
   "metadata": {},
   "source": [
    "Perform the log-transformation on data to reduces the outlier effects and bring the data close to the gaussian distribution."
   ]
  },
  {
   "cell_type": "markdown",
   "id": "2ab2c3ea",
   "metadata": {},
   "source": [
    "### Log-transformation"
   ]
  },
  {
   "cell_type": "code",
   "execution_count": 9,
   "id": "d042b83d",
   "metadata": {},
   "outputs": [],
   "source": [
    "df['Confirmed']=np.log(df['Confirmed'])"
   ]
  },
  {
   "cell_type": "code",
   "execution_count": 10,
   "id": "d1a275ec",
   "metadata": {},
   "outputs": [
    {
     "data": {
      "image/png": "[encoded data removed]",
      "text/plain": [
       "<Figure size 864x576 with 1 Axes>"
      ]
     },
     "metadata": {
      "needs_background": "light"
     },
     "output_type": "display_data"
    }
   ],
   "source": [
    "df.boxplot(column=['Confirmed'],by=['Region'],figsize=(12,8))\n",
    "plt.title('Covid 19 confirmed cases')\n",
    "plt.show()"
   ]
  },
  {
   "cell_type": "markdown",
   "id": "0ba5f71b",
   "metadata": {},
   "source": [
    "Further, we can perform a statistical test for normality to make a robust conclusion about the log-transformed data."
   ]
  },
  {
   "cell_type": "markdown",
   "id": "f6950df1",
   "metadata": {},
   "source": [
    "### Normality check: Shapiro- Wilk test"
   ]
  },
  {
   "cell_type": "code",
   "execution_count": 11,
   "id": "65537955",
   "metadata": {},
   "outputs": [],
   "source": [
    "df_group=df['Region'].unique()"
   ]
  },
  {
   "cell_type": "code",
   "execution_count": 13,
   "id": "1bdbda21",
   "metadata": {},
   "outputs": [],
   "source": [
    "df_group=list(df_group)"
   ]
  },
  {
   "cell_type": "code",
   "execution_count": 14,
   "id": "4c7a7b6e",
   "metadata": {
    "scrolled": true
   },
   "outputs": [
    {
     "data": {
      "text/plain": [
       "['AFRO', 'AMR', 'EURO', 'OCEA']"
      ]
     },
     "execution_count": 14,
     "metadata": {},
     "output_type": "execute_result"
    }
   ],
   "source": [
    "df_group"
   ]
  },
  {
   "cell_type": "code",
   "execution_count": 27,
   "id": "70f55776",
   "metadata": {},
   "outputs": [
    {
     "name": "stdout",
     "output_type": "stream",
     "text": [
      "AFRO 0.9 0.03\n",
      "AMR 0.93 0.15\n",
      "EURO 0.86 0.01\n",
      "OCEA 0.94 0.3\n"
     ]
    }
   ],
   "source": [
    "for i in df_group:\n",
    "    group=df[df['Region']==i]['Confirmed']\n",
    "    statistics,pvalue=stats.shapiro(group)\n",
    "    print(i,round(statistics,2),round(pvalue,2))"
   ]
  },
  {
   "cell_type": "markdown",
   "id": "b8192f0f",
   "metadata": {},
   "source": [
    "Note: data is not normally distributed for regions AFRO and EURO since we reject the null hypothesis at a significant level alpha=0.05 as per the Shapiro-Wilk test."
   ]
  },
  {
   "cell_type": "markdown",
   "id": "227190ea",
   "metadata": {},
   "source": [
    "### Residuals analysis: OLS methods"
   ]
  },
  {
   "cell_type": "code",
   "execution_count": 29,
   "id": "81a638e9",
   "metadata": {},
   "outputs": [
    {
     "data": {
      "text/html": [
       "<table class=\"simpletable\">\n",
       "<caption>OLS Regression Model:log_confirmed ~Region</caption>\n",
       "<tr>\n",
       "  <th>Dep. Variable:</th>        <td>Confirmed</td>    <th>  R-squared:         </th> <td>   0.413</td>\n",
       "</tr>\n",
       "<tr>\n",
       "  <th>Model:</th>                   <td>OLS</td>       <th>  Adj. R-squared:    </th> <td>   0.390</td>\n",
       "</tr>\n",
       "<tr>\n",
       "  <th>Method:</th>             <td>Least Squares</td>  <th>  F-statistic:       </th> <td>   17.82</td>\n",
       "</tr>\n",
       "<tr>\n",
       "  <th>Date:</th>             <td>Thu, 23 Sep 2021</td> <th>  Prob (F-statistic):</th> <td>7.42e-09</td>\n",
       "</tr>\n",
       "<tr>\n",
       "  <th>Time:</th>                 <td>17:53:00</td>     <th>  Log-Likelihood:    </th> <td> -139.82</td>\n",
       "</tr>\n",
       "<tr>\n",
       "  <th>No. Observations:</th>      <td>    80</td>      <th>  AIC:               </th> <td>   287.6</td>\n",
       "</tr>\n",
       "<tr>\n",
       "  <th>Df Residuals:</th>          <td>    76</td>      <th>  BIC:               </th> <td>   297.2</td>\n",
       "</tr>\n",
       "<tr>\n",
       "  <th>Df Model:</th>              <td>     3</td>      <th>                     </th>     <td> </td>   \n",
       "</tr>\n",
       "<tr>\n",
       "  <th>Covariance Type:</th>      <td>nonrobust</td>    <th>                     </th>     <td> </td>   \n",
       "</tr>\n",
       "</table>\n",
       "<table class=\"simpletable\">\n",
       "<tr>\n",
       "          <td></td>             <th>coef</th>     <th>std err</th>      <th>t</th>      <th>P>|t|</th>  <th>[0.025</th>    <th>0.975]</th>  \n",
       "</tr>\n",
       "<tr>\n",
       "  <th>Intercept</th>         <td>    7.4605</td> <td>    0.319</td> <td>   23.407</td> <td> 0.000</td> <td>    6.826</td> <td>    8.095</td>\n",
       "</tr>\n",
       "<tr>\n",
       "  <th>C(Region)[T.AMR]</th>  <td>    1.4589</td> <td>    0.451</td> <td>    3.237</td> <td> 0.002</td> <td>    0.561</td> <td>    2.357</td>\n",
       "</tr>\n",
       "<tr>\n",
       "  <th>C(Region)[T.EURO]</th> <td>    3.1287</td> <td>    0.451</td> <td>    6.941</td> <td> 0.000</td> <td>    2.231</td> <td>    4.026</td>\n",
       "</tr>\n",
       "<tr>\n",
       "  <th>C(Region)[T.OCEA]</th> <td>    2.3700</td> <td>    0.451</td> <td>    5.258</td> <td> 0.000</td> <td>    1.472</td> <td>    3.268</td>\n",
       "</tr>\n",
       "</table>\n",
       "<table class=\"simpletable\">\n",
       "<tr>\n",
       "  <th>Omnibus:</th>       <td> 9.755</td> <th>  Durbin-Watson:     </th> <td>   0.552</td>\n",
       "</tr>\n",
       "<tr>\n",
       "  <th>Prob(Omnibus):</th> <td> 0.008</td> <th>  Jarque-Bera (JB):  </th> <td>   9.887</td>\n",
       "</tr>\n",
       "<tr>\n",
       "  <th>Skew:</th>          <td> 0.701</td> <th>  Prob(JB):          </th> <td> 0.00713</td>\n",
       "</tr>\n",
       "<tr>\n",
       "  <th>Kurtosis:</th>      <td> 4.001</td> <th>  Cond. No.          </th> <td>    4.79</td>\n",
       "</tr>\n",
       "</table><br/><br/>Notes:<br/>[1] Standard Errors assume that the covariance matrix of the errors is correctly specified."
      ],
      "text/plain": [
       "<class 'statsmodels.iolib.summary.Summary'>\n",
       "\"\"\"\n",
       "                  OLS Regression Model:log_confirmed ~Region                  \n",
       "==============================================================================\n",
       "Dep. Variable:              Confirmed   R-squared:                       0.413\n",
       "Model:                            OLS   Adj. R-squared:                  0.390\n",
       "Method:                 Least Squares   F-statistic:                     17.82\n",
       "Date:                Thu, 23 Sep 2021   Prob (F-statistic):           7.42e-09\n",
       "Time:                        17:53:00   Log-Likelihood:                -139.82\n",
       "No. Observations:                  80   AIC:                             287.6\n",
       "Df Residuals:                      76   BIC:                             297.2\n",
       "Df Model:                           3                                         \n",
       "Covariance Type:            nonrobust                                         \n",
       "=====================================================================================\n",
       "                        coef    std err          t      P>|t|      [0.025      0.975]\n",
       "-------------------------------------------------------------------------------------\n",
       "Intercept             7.4605      0.319     23.407      0.000       6.826       8.095\n",
       "C(Region)[T.AMR]      1.4589      0.451      3.237      0.002       0.561       2.357\n",
       "C(Region)[T.EURO]     3.1287      0.451      6.941      0.000       2.231       4.026\n",
       "C(Region)[T.OCEA]     2.3700      0.451      5.258      0.000       1.472       3.268\n",
       "==============================================================================\n",
       "Omnibus:                        9.755   Durbin-Watson:                   0.552\n",
       "Prob(Omnibus):                  0.008   Jarque-Bera (JB):                9.887\n",
       "Skew:                           0.701   Prob(JB):                      0.00713\n",
       "Kurtosis:                       4.001   Cond. No.                         4.79\n",
       "==============================================================================\n",
       "\n",
       "Notes:\n",
       "[1] Standard Errors assume that the covariance matrix of the errors is correctly specified.\n",
       "\"\"\""
      ]
     },
     "execution_count": 29,
     "metadata": {},
     "output_type": "execute_result"
    }
   ],
   "source": [
    "model=ols('Confirmed ~ C(Region)',df).fit()\n",
    "model.summary(title='OLS Regression Model:log_confirmed ~Region')"
   ]
  },
  {
   "cell_type": "code",
   "execution_count": 30,
   "id": "b10f05ce",
   "metadata": {},
   "outputs": [
    {
     "data": {
      "text/plain": [
       "Text(0, 0.5, 'residuals')"
      ]
     },
     "execution_count": 30,
     "metadata": {},
     "output_type": "execute_result"
    },
    {
     "data": {
      "image/png": "[encoded data removed]",
      "text/plain": [
       "<Figure size 432x288 with 1 Axes>"
      ]
     },
     "metadata": {
      "needs_background": "light"
     },
     "output_type": "display_data"
    }
   ],
   "source": [
    "ax=sns.residplot(x=model.fittedvalues,\n",
    "                y=model.resid,\n",
    "                lowess=True,\n",
    "                scatter_kws={'alpha':0.5},\n",
    "                line_kws={'color':'red','lw':1,'alpha':0.8})\n",
    "ax.set_title('Residuals vs fitted')\n",
    "ax.set_xlabel('fitted values')\n",
    "ax.set_ylabel('residuals')"
   ]
  },
  {
   "cell_type": "markdown",
   "id": "687d6a81",
   "metadata": {},
   "source": [
    " The residuals in the plot are evenly distributed in the lower and upper boundaries revealing normality condition. We will further prove the normality of residuals using Normal QQ-Plot, Normal PP-Plot and histogram."
   ]
  },
  {
   "cell_type": "code",
   "execution_count": 31,
   "id": "8cea94c6",
   "metadata": {},
   "outputs": [],
   "source": [
    "model_norm_residuals = model.get_influence().resid_studentized_internal"
   ]
  },
  {
   "cell_type": "code",
   "execution_count": 32,
   "id": "aa8cf71b",
   "metadata": {},
   "outputs": [
    {
     "data": {
      "text/html": [
       "<div>\n",
       "<style scoped>\n",
       "    .dataframe tbody tr th:only-of-type {\n",
       "        vertical-align: middle;\n",
       "    }\n",
       "\n",
       "    .dataframe tbody tr th {\n",
       "        vertical-align: top;\n",
       "    }\n",
       "\n",
       "    .dataframe thead th {\n",
       "        text-align: right;\n",
       "    }\n",
       "</style>\n",
       "<table border=\"1\" class=\"dataframe\">\n",
       "  <thead>\n",
       "    <tr style=\"text-align: right;\">\n",
       "      <th></th>\n",
       "      <th>Country</th>\n",
       "      <th>Confirmed</th>\n",
       "      <th>Deaths</th>\n",
       "      <th>Recovered</th>\n",
       "      <th>Active</th>\n",
       "      <th>Continent</th>\n",
       "      <th>Region</th>\n",
       "    </tr>\n",
       "  </thead>\n",
       "  <tbody>\n",
       "    <tr>\n",
       "      <th>0</th>\n",
       "      <td>South Africa</td>\n",
       "      <td>9.211839</td>\n",
       "      <td>194</td>\n",
       "      <td>4173</td>\n",
       "      <td>5648</td>\n",
       "      <td>Africa</td>\n",
       "      <td>AFRO</td>\n",
       "    </tr>\n",
       "    <tr>\n",
       "      <th>1</th>\n",
       "      <td>Egypt</td>\n",
       "      <td>9.148465</td>\n",
       "      <td>525</td>\n",
       "      <td>2075</td>\n",
       "      <td>6800</td>\n",
       "      <td>Africa</td>\n",
       "      <td>AFRO</td>\n",
       "    </tr>\n",
       "    <tr>\n",
       "      <th>2</th>\n",
       "      <td>Morocco</td>\n",
       "      <td>8.709960</td>\n",
       "      <td>188</td>\n",
       "      <td>2554</td>\n",
       "      <td>3321</td>\n",
       "      <td>Africa</td>\n",
       "      <td>AFRO</td>\n",
       "    </tr>\n",
       "    <tr>\n",
       "      <th>3</th>\n",
       "      <td>Algeria</td>\n",
       "      <td>8.652248</td>\n",
       "      <td>502</td>\n",
       "      <td>2678</td>\n",
       "      <td>2543</td>\n",
       "      <td>Africa</td>\n",
       "      <td>AFRO</td>\n",
       "    </tr>\n",
       "    <tr>\n",
       "      <th>4</th>\n",
       "      <td>Nigeria</td>\n",
       "      <td>8.389133</td>\n",
       "      <td>143</td>\n",
       "      <td>778</td>\n",
       "      <td>3478</td>\n",
       "      <td>Africa</td>\n",
       "      <td>AFRO</td>\n",
       "    </tr>\n",
       "    <tr>\n",
       "      <th>...</th>\n",
       "      <td>...</td>\n",
       "      <td>...</td>\n",
       "      <td>...</td>\n",
       "      <td>...</td>\n",
       "      <td>...</td>\n",
       "      <td>...</td>\n",
       "      <td>...</td>\n",
       "    </tr>\n",
       "    <tr>\n",
       "      <th>75</th>\n",
       "      <td>Australia</td>\n",
       "      <td>8.846209</td>\n",
       "      <td>97</td>\n",
       "      <td>6167</td>\n",
       "      <td>684</td>\n",
       "      <td>Oceania</td>\n",
       "      <td>OCEA</td>\n",
       "    </tr>\n",
       "    <tr>\n",
       "      <th>76</th>\n",
       "      <td>Malaysia</td>\n",
       "      <td>8.803274</td>\n",
       "      <td>108</td>\n",
       "      <td>5025</td>\n",
       "      <td>1523</td>\n",
       "      <td>Asia</td>\n",
       "      <td>OCEA</td>\n",
       "    </tr>\n",
       "    <tr>\n",
       "      <th>77</th>\n",
       "      <td>Kazakhstan</td>\n",
       "      <td>8.535033</td>\n",
       "      <td>31</td>\n",
       "      <td>1941</td>\n",
       "      <td>3118</td>\n",
       "      <td>Asia</td>\n",
       "      <td>OCEA</td>\n",
       "    </tr>\n",
       "    <tr>\n",
       "      <th>78</th>\n",
       "      <td>Bahrain</td>\n",
       "      <td>8.505323</td>\n",
       "      <td>8</td>\n",
       "      <td>2070</td>\n",
       "      <td>2863</td>\n",
       "      <td>Asia</td>\n",
       "      <td>OCEA</td>\n",
       "    </tr>\n",
       "    <tr>\n",
       "      <th>79</th>\n",
       "      <td>Afghanistan</td>\n",
       "      <td>8.390041</td>\n",
       "      <td>120</td>\n",
       "      <td>558</td>\n",
       "      <td>3724</td>\n",
       "      <td>Asia</td>\n",
       "      <td>OCEA</td>\n",
       "    </tr>\n",
       "  </tbody>\n",
       "</table>\n",
       "<p>80 rows × 7 columns</p>\n",
       "</div>"
      ],
      "text/plain": [
       "         Country  Confirmed  Deaths  Recovered  Active Continent Region\n",
       "0   South Africa   9.211839     194       4173    5648    Africa   AFRO\n",
       "1          Egypt   9.148465     525       2075    6800    Africa   AFRO\n",
       "2        Morocco   8.709960     188       2554    3321    Africa   AFRO\n",
       "3        Algeria   8.652248     502       2678    2543    Africa   AFRO\n",
       "4        Nigeria   8.389133     143        778    3478    Africa   AFRO\n",
       "..           ...        ...     ...        ...     ...       ...    ...\n",
       "75     Australia   8.846209      97       6167     684   Oceania   OCEA\n",
       "76      Malaysia   8.803274     108       5025    1523      Asia   OCEA\n",
       "77    Kazakhstan   8.535033      31       1941    3118      Asia   OCEA\n",
       "78       Bahrain   8.505323       8       2070    2863      Asia   OCEA\n",
       "79   Afghanistan   8.390041     120        558    3724      Asia   OCEA\n",
       "\n",
       "[80 rows x 7 columns]"
      ]
     },
     "execution_count": 32,
     "metadata": {},
     "output_type": "execute_result"
    }
   ],
   "source": [
    "df"
   ]
  },
  {
   "cell_type": "markdown",
   "id": "a21efcb9",
   "metadata": {},
   "source": [
    "## QQ-plot\n",
    "residuals to see whether it is normal and around the line"
   ]
  },
  {
   "cell_type": "code",
   "execution_count": 33,
   "id": "1579c7c6",
   "metadata": {},
   "outputs": [],
   "source": [
    "model_norm_residuals = model.get_influence().resid_studentized_internal"
   ]
  },
  {
   "cell_type": "code",
   "execution_count": 34,
   "id": "05498b12",
   "metadata": {},
   "outputs": [
    {
     "data": {
      "image/png": "[encoded data removed]",
      "text/plain": [
       "<Figure size 432x288 with 1 Axes>"
      ]
     },
     "metadata": {
      "needs_background": "light"
     },
     "output_type": "display_data"
    }
   ],
   "source": [
    "PP=ProbPlot(model_norm_residuals)\n",
    "PP.qqplot(line='45',alpha=0.1,lw=1)\n",
    "plt.show()"
   ]
  },
  {
   "cell_type": "markdown",
   "id": "498f954f",
   "metadata": {},
   "source": [
    "\n",
    "Note: All of the residuals lying on or close to the red line in both plots so we conclude that residuals is approximately normally distributed."
   ]
  },
  {
   "cell_type": "markdown",
   "id": "94a23da9",
   "metadata": {},
   "source": [
    "## ANOVA Table"
   ]
  },
  {
   "cell_type": "code",
   "execution_count": 35,
   "id": "419ff3cf",
   "metadata": {
    "scrolled": true
   },
   "outputs": [
    {
     "data": {
      "text/html": [
       "<div>\n",
       "<style scoped>\n",
       "    .dataframe tbody tr th:only-of-type {\n",
       "        vertical-align: middle;\n",
       "    }\n",
       "\n",
       "    .dataframe tbody tr th {\n",
       "        vertical-align: top;\n",
       "    }\n",
       "\n",
       "    .dataframe thead th {\n",
       "        text-align: right;\n",
       "    }\n",
       "</style>\n",
       "<table border=\"1\" class=\"dataframe\">\n",
       "  <thead>\n",
       "    <tr style=\"text-align: right;\">\n",
       "      <th></th>\n",
       "      <th>df</th>\n",
       "      <th>sum_sq</th>\n",
       "      <th>mean_sq</th>\n",
       "      <th>F</th>\n",
       "      <th>PR(&gt;F)</th>\n",
       "    </tr>\n",
       "  </thead>\n",
       "  <tbody>\n",
       "    <tr>\n",
       "      <th>C(Region)</th>\n",
       "      <td>3.0</td>\n",
       "      <td>108.638244</td>\n",
       "      <td>36.212748</td>\n",
       "      <td>17.823827</td>\n",
       "      <td>7.423019e-09</td>\n",
       "    </tr>\n",
       "    <tr>\n",
       "      <th>Residual</th>\n",
       "      <td>76.0</td>\n",
       "      <td>154.409535</td>\n",
       "      <td>2.031704</td>\n",
       "      <td>NaN</td>\n",
       "      <td>NaN</td>\n",
       "    </tr>\n",
       "  </tbody>\n",
       "</table>\n",
       "</div>"
      ],
      "text/plain": [
       "             df      sum_sq    mean_sq          F        PR(>F)\n",
       "C(Region)   3.0  108.638244  36.212748  17.823827  7.423019e-09\n",
       "Residual   76.0  154.409535   2.031704        NaN           NaN"
      ]
     },
     "execution_count": 35,
     "metadata": {},
     "output_type": "execute_result"
    }
   ],
   "source": [
    "anova_table=sm.stats.anova_lm(model,typ=1)\n",
    "anova_table"
   ]
  },
  {
   "cell_type": "code",
   "execution_count": 42,
   "id": "d208664c",
   "metadata": {
    "scrolled": true
   },
   "outputs": [
    {
     "data": {
      "text/html": [
       "<div>\n",
       "<style scoped>\n",
       "    .dataframe tbody tr th:only-of-type {\n",
       "        vertical-align: middle;\n",
       "    }\n",
       "\n",
       "    .dataframe tbody tr th {\n",
       "        vertical-align: top;\n",
       "    }\n",
       "\n",
       "    .dataframe thead th {\n",
       "        text-align: right;\n",
       "    }\n",
       "</style>\n",
       "<table border=\"1\" class=\"dataframe\">\n",
       "  <thead>\n",
       "    <tr style=\"text-align: right;\">\n",
       "      <th></th>\n",
       "      <th>Country</th>\n",
       "      <th>Confirmed</th>\n",
       "      <th>Deaths</th>\n",
       "      <th>Recovered</th>\n",
       "      <th>Active</th>\n",
       "      <th>Continent</th>\n",
       "      <th>Region</th>\n",
       "    </tr>\n",
       "  </thead>\n",
       "  <tbody>\n",
       "    <tr>\n",
       "      <th>0</th>\n",
       "      <td>South Africa</td>\n",
       "      <td>9.211839</td>\n",
       "      <td>194</td>\n",
       "      <td>4173</td>\n",
       "      <td>5648</td>\n",
       "      <td>Africa</td>\n",
       "      <td>AFRO</td>\n",
       "    </tr>\n",
       "    <tr>\n",
       "      <th>1</th>\n",
       "      <td>Egypt</td>\n",
       "      <td>9.148465</td>\n",
       "      <td>525</td>\n",
       "      <td>2075</td>\n",
       "      <td>6800</td>\n",
       "      <td>Africa</td>\n",
       "      <td>AFRO</td>\n",
       "    </tr>\n",
       "    <tr>\n",
       "      <th>2</th>\n",
       "      <td>Morocco</td>\n",
       "      <td>8.709960</td>\n",
       "      <td>188</td>\n",
       "      <td>2554</td>\n",
       "      <td>3321</td>\n",
       "      <td>Africa</td>\n",
       "      <td>AFRO</td>\n",
       "    </tr>\n",
       "    <tr>\n",
       "      <th>3</th>\n",
       "      <td>Algeria</td>\n",
       "      <td>8.652248</td>\n",
       "      <td>502</td>\n",
       "      <td>2678</td>\n",
       "      <td>2543</td>\n",
       "      <td>Africa</td>\n",
       "      <td>AFRO</td>\n",
       "    </tr>\n",
       "    <tr>\n",
       "      <th>4</th>\n",
       "      <td>Nigeria</td>\n",
       "      <td>8.389133</td>\n",
       "      <td>143</td>\n",
       "      <td>778</td>\n",
       "      <td>3478</td>\n",
       "      <td>Africa</td>\n",
       "      <td>AFRO</td>\n",
       "    </tr>\n",
       "    <tr>\n",
       "      <th>...</th>\n",
       "      <td>...</td>\n",
       "      <td>...</td>\n",
       "      <td>...</td>\n",
       "      <td>...</td>\n",
       "      <td>...</td>\n",
       "      <td>...</td>\n",
       "      <td>...</td>\n",
       "    </tr>\n",
       "    <tr>\n",
       "      <th>75</th>\n",
       "      <td>Australia</td>\n",
       "      <td>8.846209</td>\n",
       "      <td>97</td>\n",
       "      <td>6167</td>\n",
       "      <td>684</td>\n",
       "      <td>Oceania</td>\n",
       "      <td>OCEA</td>\n",
       "    </tr>\n",
       "    <tr>\n",
       "      <th>76</th>\n",
       "      <td>Malaysia</td>\n",
       "      <td>8.803274</td>\n",
       "      <td>108</td>\n",
       "      <td>5025</td>\n",
       "      <td>1523</td>\n",
       "      <td>Asia</td>\n",
       "      <td>OCEA</td>\n",
       "    </tr>\n",
       "    <tr>\n",
       "      <th>77</th>\n",
       "      <td>Kazakhstan</td>\n",
       "      <td>8.535033</td>\n",
       "      <td>31</td>\n",
       "      <td>1941</td>\n",
       "      <td>3118</td>\n",
       "      <td>Asia</td>\n",
       "      <td>OCEA</td>\n",
       "    </tr>\n",
       "    <tr>\n",
       "      <th>78</th>\n",
       "      <td>Bahrain</td>\n",
       "      <td>8.505323</td>\n",
       "      <td>8</td>\n",
       "      <td>2070</td>\n",
       "      <td>2863</td>\n",
       "      <td>Asia</td>\n",
       "      <td>OCEA</td>\n",
       "    </tr>\n",
       "    <tr>\n",
       "      <th>79</th>\n",
       "      <td>Afghanistan</td>\n",
       "      <td>8.390041</td>\n",
       "      <td>120</td>\n",
       "      <td>558</td>\n",
       "      <td>3724</td>\n",
       "      <td>Asia</td>\n",
       "      <td>OCEA</td>\n",
       "    </tr>\n",
       "  </tbody>\n",
       "</table>\n",
       "<p>80 rows × 7 columns</p>\n",
       "</div>"
      ],
      "text/plain": [
       "         Country  Confirmed  Deaths  Recovered  Active Continent Region\n",
       "0   South Africa   9.211839     194       4173    5648    Africa   AFRO\n",
       "1          Egypt   9.148465     525       2075    6800    Africa   AFRO\n",
       "2        Morocco   8.709960     188       2554    3321    Africa   AFRO\n",
       "3        Algeria   8.652248     502       2678    2543    Africa   AFRO\n",
       "4        Nigeria   8.389133     143        778    3478    Africa   AFRO\n",
       "..           ...        ...     ...        ...     ...       ...    ...\n",
       "75     Australia   8.846209      97       6167     684   Oceania   OCEA\n",
       "76      Malaysia   8.803274     108       5025    1523      Asia   OCEA\n",
       "77    Kazakhstan   8.535033      31       1941    3118      Asia   OCEA\n",
       "78       Bahrain   8.505323       8       2070    2863      Asia   OCEA\n",
       "79   Afghanistan   8.390041     120        558    3724      Asia   OCEA\n",
       "\n",
       "[80 rows x 7 columns]"
      ]
     },
     "execution_count": 42,
     "metadata": {},
     "output_type": "execute_result"
    }
   ],
   "source": [
    "df"
   ]
  },
  {
   "cell_type": "markdown",
   "id": "989fbd66",
   "metadata": {},
   "source": [
    "## F-test ANOVA test"
   ]
  },
  {
   "cell_type": "code",
   "execution_count": 48,
   "id": "9285790f",
   "metadata": {},
   "outputs": [],
   "source": [
    "table=pd.pivot_table(df,values='Confirmed',index=df.index,columns=['Region'],aggfunc=np.sum)"
   ]
  },
  {
   "cell_type": "code",
   "execution_count": 52,
   "id": "81665ee8",
   "metadata": {},
   "outputs": [
    {
     "name": "stdout",
     "output_type": "stream",
     "text": [
      "F-statistics=17.82,p=0.00\n"
     ]
    }
   ],
   "source": [
    "F, p= stats.f_oneway(table['AFRO'].dropna(),table['AMR'].dropna(),table['EURO'].dropna(),table['OCEA'].dropna())\n",
    "print('F-statistics=%.2f,p=%.2f' %(F,p))"
   ]
  },
  {
   "cell_type": "markdown",
   "id": "8b442838",
   "metadata": {},
   "source": [
    "Difference in number of cases among the regions is significant at alpha=0.05 so, we reject the null hypothesis in favour of alternative. However, we don’t know where the difference between regions is yet. So, we will do Post Hoc test to investigate further where the difference lies."
   ]
  },
  {
   "cell_type": "markdown",
   "id": "2de6f82f",
   "metadata": {},
   "source": [
    "## Post Hoc Test: Tukey HSD"
   ]
  },
  {
   "cell_type": "code",
   "execution_count": 38,
   "id": "76f75dd9",
   "metadata": {},
   "outputs": [
    {
     "data": {
      "text/plain": [
       "<statsmodels.sandbox.stats.multicomp.TukeyHSDResults at 0x7f9d3040b580>"
      ]
     },
     "execution_count": 38,
     "metadata": {},
     "output_type": "execute_result"
    }
   ],
   "source": [
    "from statsmodels.stats.multicomp import MultiComparison\n",
    "mc=MultiComparison(df['Confirmed'],df['Region'])\n",
    "results=mc.tukeyhsd()"
   ]
  },
  {
   "cell_type": "code",
   "execution_count": 40,
   "id": "4f759154",
   "metadata": {},
   "outputs": [
    {
     "name": "stdout",
     "output_type": "stream",
     "text": [
      "Multiple Comparison of Means - Tukey HSD, FWER=0.05\n",
      "===================================================\n",
      "group1 group2 meandiff p-adj   lower  upper  reject\n",
      "---------------------------------------------------\n",
      "  AFRO    AMR   1.4589 0.0095  0.2749  2.643   True\n",
      "  AFRO   EURO   3.1287  0.001  1.9446 4.3127   True\n",
      "  AFRO   OCEA     2.37  0.001  1.1859  3.554   True\n",
      "   AMR   EURO   1.6698 0.0022  0.4857 2.8538   True\n",
      "   AMR   OCEA   0.9111 0.1893  -0.273 2.0951  False\n",
      "  EURO   OCEA  -0.7587 0.3399 -1.9427 0.4254  False\n",
      "---------------------------------------------------\n"
     ]
    }
   ],
   "source": [
    "print(results)"
   ]
  },
  {
   "cell_type": "markdown",
   "id": "2281459a",
   "metadata": {},
   "source": [
    "Note: The mean COVID-19 cases for AFRO region is statistically different from other regions AMR, EURO, and OCEA at 0.05% significance level. Also, mean COVID-19 cases for AMR-EURO regions is statistically different at 0.05% significance level. At 95% confidence level both AMR-OCEA and EURO-OCEA pair of regions are not significantly different."
   ]
  },
  {
   "cell_type": "code",
   "execution_count": null,
   "id": "f531cebf",
   "metadata": {},
   "outputs": [],
   "source": []
  }
 ],
 "metadata": {
  "kernelspec": {
   "display_name": "Python 3",
   "language": "python",
   "name": "python3"
  },
  "language_info": {
   "codemirror_mode": {
    "name": "ipython",
    "version": 3
   },
   "file_extension": ".py",
   "mimetype": "text/x-python",
   "name": "python",
   "nbconvert_exporter": "python",
   "pygments_lexer": "ipython3",
   "version": "3.8.10"
  }
 },
 "nbformat": 4,
 "nbformat_minor": 5
}
